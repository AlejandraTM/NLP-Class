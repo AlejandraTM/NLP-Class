{
 "cells": [
  {
   "cell_type": "markdown",
   "metadata": {},
   "source": [
    "<img src='https://encrypted-tbn0.gstatic.com/images?q=tbn%3AANd9GcQ-VfNtOyJbsaxu43Kztf_cv1mgBG6ZIQZEVw&usqp=CAU'>\n",
    "\n",
    "# Procesamiento de Lenguage Natural\n",
    "\n",
    "## Taller #2: Adquisición de textos\n",
    "`Fecha de entrega: Agosto 29, 2020. (Antes del inicio de la próxima clase).` "
   ]
  },
  {
   "cell_type": "markdown",
   "metadata": {},
   "source": [
    "<center><h1>🤘 ¡Morse Sy manda! 🤘</h1></center>\n"
   ]
  },
  {
   "cell_type": "markdown",
   "metadata": {},
   "source": [
    "# Punto 1:\n",
    "\n",
    "- Descomprimir el archivo `.zip` de los poemas\n",
    "- Leer cada uno de sus archivos\n",
    "- Responder: ¿Cuál archivo tiene el mayor número de palabras?"
   ]
  },
  {
   "cell_type": "code",
   "execution_count": 1,
   "metadata": {},
   "outputs": [],
   "source": [
    "import os\n",
    "from zipfile import ZipFile as zf"
   ]
  },
  {
   "cell_type": "code",
   "execution_count": 3,
   "metadata": {},
   "outputs": [],
   "source": [
    "Dir=\"archivos/poemas.zip\"\n",
    "with zf(Dir) as archivo:\n",
    "    archivo.extractall(\"archivos/\")"
   ]
  },
  {
   "cell_type": "code",
   "execution_count": 21,
   "metadata": {},
   "outputs": [
    {
     "name": "stdout",
     "output_type": "stream",
     "text": [
      "Aqui (Octavio Paz).txt\n",
      "El número de palabras es:  23\n",
      "\n",
      "Sindrome (Mario Benedetti).txt\n",
      "El número de palabras es:  53\n",
      "\n",
      "A un general (Julio Cortazar).txt\n",
      "El número de palabras es:  46\n",
      "\n"
     ]
    }
   ],
   "source": [
    "for raiz, dirs, files in os.walk(\"archivos/poemas/\"):\n",
    "    for poema in files:\n",
    "        print(poema)\n",
    "        poema2=\"archivos/poemas/\"+poema\n",
    "        with open(poema2) as lector:\n",
    "            data=lector.read()\n",
    "            print(\"El número de palabras es: \", len(data.split()))\n",
    "            print()"
   ]
  },
  {
   "cell_type": "code",
   "execution_count": 26,
   "metadata": {},
   "outputs": [
    {
     "name": "stdout",
     "output_type": "stream",
     "text": [
      "El poema ganador es...tatatatannnnnn\n",
      "Sindrome (Mario Benedetti).txt\n",
      "Con 53 palabras.\n"
     ]
    }
   ],
   "source": [
    "nplbr=0\n",
    "poem_win=\"yo soy\"\n",
    "for raiz, dirs, files in os.walk(\"archivos/poemas/\"):\n",
    "    for poema in files:\n",
    "        #print(poema)\n",
    "        poema2=\"archivos/poemas/\"+poema\n",
    "        with open(poema2) as lector:\n",
    "            data=lector.read()\n",
    "            if(len(data.split())>nplbr):\n",
    "                nplbr=len(data.split())\n",
    "                poem_win=poema\n",
    "print(\"El poema ganador es...tatatatannnnnn\") \n",
    "print(poem_win)\n",
    "print(\"Con\", nplbr, \"palabras.\")\n",
    "            \n",
    "            "
   ]
  },
  {
   "cell_type": "markdown",
   "metadata": {},
   "source": [
    "# Punto 2:\n",
    "\n",
    "- Hacer Web Scraping de 10 biografías en Wikipedia (en búcle)\n",
    "- Obtener el **encabezado** de cada biografía\n",
    "- Obtener todos los **contenidos** y **etiquetas de título** asociados a los **links** del primer párrafo"
   ]
  },
  {
   "cell_type": "markdown",
   "metadata": {},
   "source": [
    "<h3> 🧐 Mis 10 biografías:</h3>\n",
    "\n",
    "1. [Emmy Noether](https://es.wikipedia.org/wiki/Emmy_Noether)\n",
    "2. [Vladímir Arnold](https://es.wikipedia.org/wiki/Vlad%C3%ADmir_Arnold)\n",
    "3. [Évariste Galois](https://es.wikipedia.org/wiki/%C3%89variste_Galois)\n",
    "4. [Maryam Mirzajani](https://es.wikipedia.org/wiki/Maryam_Mirzajani)\n",
    "5. [Artur Ávila](https://es.wikipedia.org/wiki/Artur_%C3%81vila)\n",
    "6. [Carl Friedrich Gauss](https://es.wikipedia.org/wiki/Carl_Friedrich_Gauss)\n",
    "7. [Bernhard Riemann](https://es.wikipedia.org/wiki/Bernhard_Riemann)\n",
    "8. [Leonhard Euler](https://es.wikipedia.org/wiki/Leonhard_Euler)\n",
    "9. [Nikolái Lobachevski](https://es.wikipedia.org/wiki/Nikol%C3%A1i_Lobachevski)\n",
    "10. [János Bolyai](https://es.wikipedia.org/wiki/J%C3%A1nos_Bolyai)"
   ]
  },
  {
   "cell_type": "code",
   "execution_count": 46,
   "metadata": {},
   "outputs": [
    {
     "data": {
      "text/plain": [
       "{'https://es.wikipedia.org/wiki/%C3%89variste_Galois',\n",
       " 'https://es.wikipedia.org/wiki/Artur_%C3%81vila',\n",
       " 'https://es.wikipedia.org/wiki/Bernhard_Riemann',\n",
       " 'https://es.wikipedia.org/wiki/Carl_Friedrich_Gauss',\n",
       " 'https://es.wikipedia.org/wiki/Emmy_Noether',\n",
       " 'https://es.wikipedia.org/wiki/J%C3%A1nos_Bolyai',\n",
       " 'https://es.wikipedia.org/wiki/Leonhard_Euler',\n",
       " 'https://es.wikipedia.org/wiki/Maryam_Mirzajani',\n",
       " 'https://es.wikipedia.org/wiki/Nikol%C3%A1i_Lobachevski',\n",
       " 'https://es.wikipedia.org/wiki/Vlad%C3%ADmir_Arnold'}"
      ]
     },
     "execution_count": 46,
     "metadata": {},
     "output_type": "execute_result"
    }
   ],
   "source": [
    "Bios={\"https://es.wikipedia.org/wiki/Emmy_Noether\",\"https://es.wikipedia.org/wiki/Vlad%C3%ADmir_Arnold\",\"https://es.wikipedia.org/wiki/%C3%89variste_Galois\",\"https://es.wikipedia.org/wiki/Maryam_Mirzajani\",\"https://es.wikipedia.org/wiki/Artur_%C3%81vila\",\"https://es.wikipedia.org/wiki/Carl_Friedrich_Gauss\",\"https://es.wikipedia.org/wiki/Bernhard_Riemann\",\"https://es.wikipedia.org/wiki/Leonhard_Euler\",\"https://es.wikipedia.org/wiki/Nikol%C3%A1i_Lobachevski\",\"https://es.wikipedia.org/wiki/J%C3%A1nos_Bolyai\"}\n",
    "Bios"
   ]
  },
  {
   "cell_type": "code",
   "execution_count": 47,
   "metadata": {},
   "outputs": [],
   "source": [
    "import bs4 as bs\n",
    "import urllib.request as urlrq\n",
    "    "
   ]
  },
  {
   "cell_type": "code",
   "execution_count": 78,
   "metadata": {},
   "outputs": [
    {
     "name": "stdout",
     "output_type": "stream",
     "text": [
      "['Bernhard Riemann']\n",
      "Breselenz (aún no redactado)\n",
      "Alemania\n",
      "17 de septiembre\n",
      "1826\n",
      "Verbania\n",
      "Italia\n",
      "20 de julio\n",
      "1866\n",
      "Matemáticas\n",
      "Alemania\n",
      "Análisis matemático\n",
      "Geometría diferencial\n",
      "Relatividad general\n",
      "Función zeta de Riemann\n",
      "Hipótesis de Riemann\n",
      "Integral de Riemann\n",
      "Lema de Riemann (aún no redactado)\n",
      "Variedad de Riemann\n",
      "Superficie de Riemann\n",
      "Geometría de Riemann\n",
      "\n",
      "['János Bolyai']\n",
      "15 de diciembre\n",
      "1802\n",
      "Cluj-Napoca\n",
      "Rumanía\n",
      "27 de enero\n",
      "1860\n",
      "Târgu Mureș\n",
      "Matemático\n",
      "None\n",
      "Geometría no euclidiana\n",
      "Carl Friedrich Gauss\n",
      "Nikolái Lobachevski\n",
      "\n",
      "['Leonhard Euler']\n",
      "Alfabeto Fonético Internacional\n",
      "Alfabeto Fonético Internacional\n",
      "Basilea\n",
      "Suiza\n",
      "15 de abril\n",
      "1707\n",
      "San Petersburgo\n",
      "Imperio ruso\n",
      "18 de septiembre\n",
      "1783\n",
      "Matemático\n",
      "Físico\n",
      "Suiza\n",
      "Siglo XVIII\n",
      "Número e\n",
      "\n",
      "['Nikolái Lobachevski']\n",
      "Cirílico\n",
      "Acerca de este sonido\n",
      "Ru-Nikolai Ivanovich Lobachevsky.ogg\n",
      "Ayuda:Multimedia\n",
      "Archivo:Ru-Nikolai Ivanovich Lobachevsky.ogg\n",
      "1 de diciembre\n",
      "1792\n",
      "24 de febrero\n",
      "1856\n",
      "Rusia\n",
      "Siglo XIX\n",
      "\n",
      "['Maryam Mirzajani']\n",
      "Idioma persa\n",
      "Teherán\n",
      "Irán\n",
      "12 de mayo\n",
      "1977\n",
      "Stanford (California)\n",
      "California\n",
      "Estados Unidos\n",
      "14 de julio\n",
      "2017\n",
      "Matemáticas\n",
      "Irán\n",
      "Universidad de Stanford\n",
      "2014\n",
      "Medalla Fields\n",
      "Mujer\n",
      "\n",
      "['Vladímir Arnold']\n",
      "Idioma ruso\n",
      "Odesa\n",
      "Ucrania\n",
      "París\n",
      "Matemático\n",
      "\n",
      "['Artur Ávila']\n",
      "Río de Janeiro\n",
      "Matemático\n",
      "Brasil\n",
      "Francia\n",
      "Sistemas dinámicos\n",
      "Teoría espectral\n",
      "Medalla Fields\n",
      "2014\n",
      "None\n",
      "\n",
      "['Évariste Galois']\n",
      "25 de octubre\n",
      "1811\n",
      "31 de mayo\n",
      "1832\n",
      "Matemático\n",
      "Francia\n",
      "Condición necesaria y suficiente\n",
      "Ecuación algebraica\n",
      "Radical (matemáticas)\n",
      "None\n",
      "Teoría de Galois\n",
      "None\n",
      "Álgebra abstracta\n",
      "Grupo (matemática)\n",
      "Teoría de Galois\n",
      "CDMA\n",
      "Sistemas de navegación por satélite\n",
      "GPS\n",
      "GLONASS\n",
      "Wikipedia:Verificabilidad\n",
      "\n",
      "['Carl Friedrich Gauss']\n",
      "Teoría de números\n",
      "Magnetismo\n",
      "Función gaussiana\n",
      "\n",
      "['Emmy Noether']\n",
      "Idioma alemán\n",
      "Erlangen\n",
      "Baviera\n",
      "Alemania\n",
      "23 de marzo\n",
      "1882\n",
      "Bryn Mawr\n",
      "Pensilvania\n",
      "Estados Unidos\n",
      "14 de abril\n",
      "1935\n",
      "Matemático\n",
      "Alemania\n",
      "Pueblo judío\n",
      "None\n",
      "None\n",
      "Física teórica\n",
      "Álgebra abstracta\n",
      "David Hilbert\n",
      "Albert Einstein\n",
      "None\n",
      "None\n",
      "Anillo (matemática)\n",
      "Cuerpo (matemática)\n",
      "Álgebra sobre un cuerpo\n",
      "Teorema de Noether\n",
      "Simetría en física\n",
      "Ley de conservación\n",
      "None\n",
      "None\n",
      "\n"
     ]
    }
   ],
   "source": [
    "for link in Bios:\n",
    "    request=urlrq.urlopen(link)\n",
    "    fuente=request.read()\n",
    "    request.close()\n",
    "    soup=bs.BeautifulSoup(fuente,'html.parser')\n",
    "    print(soup.find('h1').contents)\n",
    "    casi=soup.find(id=\"content\").find(id=\"bodyContent\").find(id=\"mw-content-text\").find('div').find('p').find_all('a')\n",
    "    for titulo in casi:\n",
    "        print(titulo.get('title'))\n",
    "    print()"
   ]
  }
 ],
 "metadata": {
  "kernelspec": {
   "display_name": "Python 3",
   "language": "python",
   "name": "python3"
  },
  "language_info": {
   "codemirror_mode": {
    "name": "ipython",
    "version": 3
   },
   "file_extension": ".py",
   "mimetype": "text/x-python",
   "name": "python",
   "nbconvert_exporter": "python",
   "pygments_lexer": "ipython3",
   "version": "3.8.5"
  }
 },
 "nbformat": 4,
 "nbformat_minor": 2
}
